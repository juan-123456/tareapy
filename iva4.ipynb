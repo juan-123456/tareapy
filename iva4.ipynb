{
  "nbformat": 4,
  "nbformat_minor": 0,
  "metadata": {
    "colab": {
      "name": "Untitled10.ipynb",
      "provenance": [],
      "authorship_tag": "ABX9TyOF/1oLFcGeEMax0/tNrpKn",
      "include_colab_link": true
    },
    "kernelspec": {
      "name": "python3",
      "display_name": "Python 3"
    },
    "language_info": {
      "name": "python"
    }
  },
  "cells": [
    {
      "cell_type": "markdown",
      "metadata": {
        "id": "view-in-github",
        "colab_type": "text"
      },
      "source": [
        "<a href=\"https://colab.research.google.com/github/juan-123456/tareapy/blob/cuartatanda/iva4.ipynb\" target=\"_parent\"><img src=\"https://colab.research.google.com/assets/colab-badge.svg\" alt=\"Open In Colab\"/></a>"
      ]
    },
    {
      "cell_type": "code",
      "metadata": {
        "id": "Nn89i2eb-Qs3"
      },
      "source": [
        "def desc(pre, porc):\n",
        "\n",
        "    #aqui creamos una funcion donde tenemos pre como el valor real \n",
        "    #ya que se debe aplicar el descuento\n",
        "    #despues tenemos porc como el porcentaje al que se debe descontar\n",
        "\n",
        "    \n",
        "\n",
        "    return pre - pre * porc / 100\n",
        "    #al final nos regresa el precio final ya aplicado el descuento \n",
        "    \n",
        "def iva(pre, por):\n",
        "    #tenemos nuestra funcion que debe aplicarse un iva a la cantidad\n",
        "    #luego tenemos pre como el precio de una valor cuando se aplica ya el iva\n",
        "    #despues tenemos por como el porcetaje que debe aplicarse del iva\n",
        "\n",
        "    return pre + pre * por / 100\n",
        "#despues nos aplica un return que nos devuelve el precio fial tras aplicar el iva\n",
        "def preba(ba, fun):\n",
        "\n",
        "    #por ultimo tenemos esta funcion que calcula la compra una vez aplicado una funcion anterior\n",
        "    #tenemos a ba como el diccionario formado por el precio del descuento\n",
        "    #por ultimo tenemos a fun como la funcion que hagara 2 valores\n",
        "    #1 real y el otro lo devuelve.\n",
        "  \n",
        "    total = 0\n",
        "    for pre, descuento in ba.items():\n",
        "        total += fun(pre, descuento)\n",
        "    return total\n",
        "    #luego nos regresa el precio final de la compra ya aplicada con todos las funciones\n",
        "    #creadas\n",
        "\n",
        "print('precio de la compra con los descuentos es: ', preba({1004:50, 506:20, 100:5}, desc))\n",
        "print('precio de la compra con el iva es: ', preba  ({1005:80, 506:15, 100:8}, iva))"
      ],
      "execution_count": null,
      "outputs": []
    }
  ]
}