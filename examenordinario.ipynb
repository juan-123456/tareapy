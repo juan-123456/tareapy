{
  "nbformat": 4,
  "nbformat_minor": 0,
  "metadata": {
    "colab": {
      "name": "Untitled14.ipynb",
      "provenance": [],
      "collapsed_sections": [],
      "include_colab_link": true
    },
    "kernelspec": {
      "name": "python3",
      "display_name": "Python 3"
    },
    "language_info": {
      "name": "python"
    }
  },
  "cells": [
    {
      "cell_type": "markdown",
      "metadata": {
        "id": "view-in-github",
        "colab_type": "text"
      },
      "source": [
        "<a href=\"https://colab.research.google.com/github/juan-123456/tareapy/blob/ordinariocupul2/examenordinario.ipynb\" target=\"_parent\"><img src=\"https://colab.research.google.com/assets/colab-badge.svg\" alt=\"Open In Colab\"/></a>"
      ]
    },
    {
      "cell_type": "code",
      "metadata": {
        "colab": {
          "base_uri": "https://localhost:8080/"
        },
        "id": "xpcXfVoMcx0B",
        "outputId": "92b45fe8-0da9-45c6-e68a-7128f9476dbb"
      },
      "source": [
        "\" tenemos que importar de esta forma ya que lo que hacemos es obtener informacion de un archivo\"\n",
        "\"para despues mandarlo a otro\"\n",
        "import requests\n",
        "\n",
        "urlcoti = 'https://raw.githubusercontent.com/juan-123456/tareapy/ordinario/cotizacion.csv'\n",
        "cotizacion = requests.get(urlcoti)\n",
        "open('cotizacion.csv', 'wb').write(cotizacion.content)\n",
        "urlcoti = 'https://raw.githubusercontent.com/juan-123456/tareapy/ordinariocupul2/final_de_cotizacion.csv'\n",
        "cotizacion = requests.get(urlcoti)\n",
        "open('final_de_cotizacion.csv', 'wb').write(cotizacion.content)\n",
        "\n",
        "def limpiar(cifra):\n",
        "    \"\"\"\n",
        "    Función que elimina los puntos de separación de miles y cambia las comas de separación de decimales por puntos.\n",
        "    tenemos declarado cifra como una cada de cifras\n",
        "      y tambien lo que hacemos es que devuelve\n",
        "      una cifra real después de eliminar el separador\n",
        "    \"\"\"\n",
        "    cifra = cifra.replace('.', '')\n",
        "    cifra = cifra.replace(',','.')\n",
        "    return float(cifra) \n",
        "\n",
        "def preprocesado(ruta):\n",
        "    \"\"\"\n",
        "    \n",
        "    luego tenemos el proceseso de datos que contiene los archivos csv y devuelve los nombre claves\n",
        "   tenemos declarado la ruta del fichero como la ruta\n",
        "    sabemos que las funciones son hacer un diccionario con pares formamos por las columnas y las listas\n",
        "    \n",
        "    \"\"\"\n",
        "    try:\n",
        "        # Abrimos el fichero \n",
        "        f = open(ruta, 'r')\n",
        "    except FileNotFoundError:\n",
        "        print('El fichero no existe.')\n",
        "        return\n",
        "    # Leemos el fichero \n",
        "    lines = f.readlines()\n",
        "    # Cerramos el fichero\n",
        "    f.close()\n",
        "    # Leemos las claves del primer elemento de la lista\n",
        "    claves = lines[0]\n",
        "    # Eliminamos el cambio de línea \n",
        "    claves = claves[:-1].split(';')\n",
        "    # Creamos el diccionario\n",
        "    cotizaciones = {}\n",
        "    # Inicializamos el diccionario con listas vacías\n",
        "    for i in claves:\n",
        "        cotizaciones[i] = []\n",
        "    #  la lista línea a línea\n",
        "    for linea in lines[1:]:\n",
        "        # Eliminamos el cambio de línea que aparece al final y dividimos la cadena por el punto y coma\n",
        "        linea = linea[:-1].split(';')\n",
        "        cotizaciones[claves[0]].append(linea[0])\n",
        "        # Añadimos cada dato a la lista \n",
        "        for i in range(1, len(cotizaciones)):\n",
        "            cotizaciones[claves[i]].append(limpiar(linea[i]))\n",
        "    return cotizaciones\n",
        "\n",
        "\n",
        "def final_de_cotizacion(cotizaciones, ruta):\n",
        "    \"\"\"\n",
        "    por ultimos tenemos la funcion que recibe los valores de diccionario para crear un resumende esas columnas\n",
        "    en este caso de minimo maximo y media\n",
        "\n",
        "  tenemos cotizaciones como diccionario con pares que las claes son variables medidas y listas de valores de cada variable\n",
        "        y ruta como ruta del dichero\n",
        "       \n",
        "    \"\"\"\n",
        "    # Eliminamos el primer par del diccionario que contiene los nombres de las empresas\n",
        "    del(cotizaciones['Nombre'])\n",
        "    # Abrimos el fichero \n",
        "    f = open(ruta, 'w')\n",
        "    # Escribimos en la primera línea\n",
        "    f.write('Nombre')\n",
        "    for clave in cotizaciones.keys():\n",
        "        f.write(';' + clave)\n",
        "    # Calculamos los mínimos de cada lista \n",
        "    f.write('\\nMínimo')\n",
        "    for valores in cotizaciones.values():\n",
        "        f.write(';' + str(min(valores)))\n",
        "    # Calculamos los máximos de cada lista \n",
        "    f.write('\\nMáximo')\n",
        "    for valores in cotizaciones.values():\n",
        "        f.write(';' + str(max(valores)))\n",
        "    # Calculamos las medias de cada lista \n",
        "    f.write('\\nMedia')\n",
        "    for valores in cotizaciones.values():\n",
        "        f.write(';' + str(sum(valores)/len(valores)))\n",
        "    f.close()\n",
        "    return\n",
        "\n",
        "\n",
        "# invocamos a las funciones de prueba\n",
        "cotizaciones = preprocesado('cotizacion.csv')\n",
        "final_de_cotizacion(cotizaciones, 'final_de_cotizacion.csv')\n",
        "\n",
        "print(\"REALIZADO CON EXITO\")\n"
      ],
      "execution_count": 47,
      "outputs": [
        {
          "output_type": "stream",
          "text": [
            "REALIZADO CON EXITO\n"
          ],
          "name": "stdout"
        }
      ]
    }
  ]
}