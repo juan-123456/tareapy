{
  "nbformat": 4,
  "nbformat_minor": 0,
  "metadata": {
    "colab": {
      "name": "Untitled8.ipynb",
      "provenance": [],
      "authorship_tag": "ABX9TyMeVYCzsFQgVheJoZuZeYir",
      "include_colab_link": true
    },
    "kernelspec": {
      "name": "python3",
      "display_name": "Python 3"
    },
    "language_info": {
      "name": "python"
    }
  },
  "cells": [
    {
      "cell_type": "markdown",
      "metadata": {
        "id": "view-in-github",
        "colab_type": "text"
      },
      "source": [
        "<a href=\"https://colab.research.google.com/github/juan-123456/tareapy/blob/terceratanda/cadena.ipynb\" target=\"_parent\"><img src=\"https://colab.research.google.com/assets/colab-badge.svg\" alt=\"Open In Colab\"/></a>"
      ]
    },
    {
      "cell_type": "code",
      "metadata": {
        "id": "37u9aUPO2KgR"
      },
      "source": [
        "def palabras(carac):\n",
        "#aqui crearemos la funcion cuenta cada palabra en un texto\n",
        "#tenemos como carac que es un caracter apreviado\n",
        "# debe regresar un diccionario.\n",
        "\n",
        "    \n",
        "  #tenemos el ciclo for acompañado de el if que hace para cuando la variable sea un caracter si lo hace\n",
        "  #hace la en una palabra con la variable pa\n",
        "    carac = carac.split()\n",
        "    pa = {}\n",
        "    for variable in carac:\n",
        "        if variable in pa:\n",
        "            pa[variable] += 1\n",
        "        else:\n",
        "            pa[variable] = 1\n",
        "    return pa\n",
        "\n",
        "def repe(pa):\n",
        "    pa1 = ''\n",
        "    na = 0\n",
        "    for pa, n in pa.items():\n",
        "        if n > na:\n",
        "            pa1 = pa\n",
        "            na = n\n",
        "    return pa1, na\n",
        "    #aquis agregamos un texto cualquiera para ver como funciona.\n",
        "\n",
        "carac = 'ejemplo de como quieres que quiera que funcione la funcion y quiera que funcione'\n",
        "\n",
        "#imprime nuestras funciones\n",
        "print(palabras(carac))\n",
        "print(repe(palabras(carac)))"
      ],
      "execution_count": null,
      "outputs": []
    }
  ]
}