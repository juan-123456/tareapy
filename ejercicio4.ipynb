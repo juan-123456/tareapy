{
  "nbformat": 4,
  "nbformat_minor": 0,
  "metadata": {
    "colab": {
      "name": "Untitled11.ipynb",
      "provenance": [],
      "authorship_tag": "ABX9TyM1JBX+R/fqtZj6ToOdnTea",
      "include_colab_link": true
    },
    "kernelspec": {
      "name": "python3",
      "display_name": "Python 3"
    },
    "language_info": {
      "name": "python"
    }
  },
  "cells": [
    {
      "cell_type": "markdown",
      "metadata": {
        "id": "view-in-github",
        "colab_type": "text"
      },
      "source": [
        "<a href=\"https://colab.research.google.com/github/juan-123456/tareapy/blob/quintatanda/ejercicio4.ipynb\" target=\"_parent\"><img src=\"https://colab.research.google.com/assets/colab-badge.svg\" alt=\"Open In Colab\"/></a>"
      ]
    },
    {
      "cell_type": "code",
      "metadata": {
        "id": "PbAp1V3wpK8h",
        "outputId": "67366be0-1169-4ec2-f94b-44a094163c01",
        "colab": {
          "base_uri": "https://localhost:8080/"
        }
      },
      "source": [
        "#tenemos las librerias importandas con el siguiente comando\n",
        "import pandas as pd\n",
        "\n",
        "#luego creamos una variable con sus datos que en este caso se agregan para hacer una funcion\n",
        "funcion = {'Mes':['Enero', 'Febrero', 'Marzo', 'Abril'], 'Numero de ventas':[30500, 35600, 28300, 33900], 'Gastos totales':[22000, 23400, 18100, 20700]}\n",
        "\n",
        "#por ultimo usamos un dataframe para imprimir nuestros datos\n",
        "opera = pd.DataFrame(funcion)\n",
        "\n",
        "print(opera)"
      ],
      "execution_count": 5,
      "outputs": [
        {
          "output_type": "stream",
          "text": [
            "       Mes  Numero de ventas  Gastos totales\n",
            "0    Enero             30500           22000\n",
            "1  Febrero             35600           23400\n",
            "2    Marzo             28300           18100\n",
            "3    Abril             33900           20700\n"
          ],
          "name": "stdout"
        }
      ]
    }
  ]
}