{
  "nbformat": 4,
  "nbformat_minor": 0,
  "metadata": {
    "colab": {
      "name": "Untitled11.ipynb",
      "provenance": [],
      "authorship_tag": "ABX9TyPgCHUchd4j2eMQXr0qtMic",
      "include_colab_link": true
    },
    "kernelspec": {
      "name": "python3",
      "display_name": "Python 3"
    },
    "language_info": {
      "name": "python"
    }
  },
  "cells": [
    {
      "cell_type": "markdown",
      "metadata": {
        "id": "view-in-github",
        "colab_type": "text"
      },
      "source": [
        "<a href=\"https://colab.research.google.com/github/juan-123456/tareapy/blob/quintatanda/ejercicio6.ipynb\" target=\"_parent\"><img src=\"https://colab.research.google.com/assets/colab-badge.svg\" alt=\"Open In Colab\"/></a>"
      ]
    },
    {
      "cell_type": "code",
      "metadata": {
        "id": "45y3vQJB97AR",
        "outputId": "7cf3aae7-7daf-460c-b826-40dc268370e3",
        "colab": {
          "base_uri": "https://localhost:8080/",
          "height": 142
        }
      },
      "source": [
        "#tenemos nuestra libreria importada\n",
        "import pandas as pd\n",
        "\n",
        "#se crea una funcion llamada cot seguido de nuestras variables \n",
        "def cot(ro):\n",
        "  #estamos creando la forma correcta en como se mostraran los datos de nuestro csv\n",
        "    df = pd.read_csv(ro, sep=';', decimal=',', thousands='.', index_col=0)\n",
        "\n",
        "#luego solo invocamos nuestros datos que estan ya creados en el csv y de queforma se deben mostrar\n",
        "\n",
        "    return pd.DataFrame([df.min(), df.max(), df.mean()], index=['Mínimo', 'Máximo', 'Media'])\n",
        "\n",
        "#al final estamos llamando nuestro csv, en este caso lo estoy llamando mediante un raw \n",
        "#ya subido en el github.\n",
        "\n",
        "cot('https://raw.githubusercontent.com/asalber/aprendeconalf/master/content/es/docencia/python/ejercicios/soluciones/pandas/cotizacion.csv')"
      ],
      "execution_count": 28,
      "outputs": [
        {
          "output_type": "execute_result",
          "data": {
            "text/html": [
              "<div>\n",
              "<style scoped>\n",
              "    .dataframe tbody tr th:only-of-type {\n",
              "        vertical-align: middle;\n",
              "    }\n",
              "\n",
              "    .dataframe tbody tr th {\n",
              "        vertical-align: top;\n",
              "    }\n",
              "\n",
              "    .dataframe thead th {\n",
              "        text-align: right;\n",
              "    }\n",
              "</style>\n",
              "<table border=\"1\" class=\"dataframe\">\n",
              "  <thead>\n",
              "    <tr style=\"text-align: right;\">\n",
              "      <th></th>\n",
              "      <th>Final</th>\n",
              "      <th>Máximo</th>\n",
              "      <th>Mínimo</th>\n",
              "      <th>Volumen</th>\n",
              "      <th>Efectivo</th>\n",
              "    </tr>\n",
              "  </thead>\n",
              "  <tbody>\n",
              "    <tr>\n",
              "      <th>Mínimo</th>\n",
              "      <td>1.016500</td>\n",
              "      <td>4.067500</td>\n",
              "      <td>1.016500</td>\n",
              "      <td>1.221000e+03</td>\n",
              "      <td>2343.090</td>\n",
              "    </tr>\n",
              "    <tr>\n",
              "      <th>Máximo</th>\n",
              "      <td>19705.000000</td>\n",
              "      <td>19875.000000</td>\n",
              "      <td>19675.000000</td>\n",
              "      <td>3.612969e+07</td>\n",
              "      <td>145765.440</td>\n",
              "    </tr>\n",
              "    <tr>\n",
              "      <th>Media</th>\n",
              "      <td>2796.768757</td>\n",
              "      <td>3170.113357</td>\n",
              "      <td>3136.510471</td>\n",
              "      <td>4.252279e+06</td>\n",
              "      <td>31767.778</td>\n",
              "    </tr>\n",
              "  </tbody>\n",
              "</table>\n",
              "</div>"
            ],
            "text/plain": [
              "               Final        Máximo        Mínimo       Volumen    Efectivo\n",
              "Mínimo      1.016500      4.067500      1.016500  1.221000e+03    2343.090\n",
              "Máximo  19705.000000  19875.000000  19675.000000  3.612969e+07  145765.440\n",
              "Media    2796.768757   3170.113357   3136.510471  4.252279e+06   31767.778"
            ]
          },
          "metadata": {
            "tags": []
          },
          "execution_count": 28
        }
      ]
    }
  ]
}