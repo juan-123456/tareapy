{
  "nbformat": 4,
  "nbformat_minor": 0,
  "metadata": {
    "colab": {
      "name": "Untitled10.ipynb",
      "provenance": [],
      "authorship_tag": "ABX9TyOL7VxWKotPhNekpQqlFFkE",
      "include_colab_link": true
    },
    "kernelspec": {
      "name": "python3",
      "display_name": "Python 3"
    },
    "language_info": {
      "name": "python"
    }
  },
  "cells": [
    {
      "cell_type": "markdown",
      "metadata": {
        "id": "view-in-github",
        "colab_type": "text"
      },
      "source": [
        "<a href=\"https://colab.research.google.com/github/juan-123456/tareapy/blob/cuartatanda/pib2.ipynb\" target=\"_parent\"><img src=\"https://colab.research.google.com/assets/colab-badge.svg\" alt=\"Open In Colab\"/></a>"
      ]
    },
    {
      "cell_type": "code",
      "metadata": {
        "id": "Nn89i2eb-Qs3"
      },
      "source": [
        "def funi(url, co='ES'):\n",
        "\n",
        "\n",
        "#creamos nuestra funcion que muestre el pib per capita creando url es la cadena que con tiene el pib\n",
        "#co lo tenemos como cadena de codigo\n",
        "\n",
        "\n",
        "    from urllib import request\n",
        "    from urllib.error import URLError\n",
        "    try:\n",
        "        #despues nos regresa el diccionario que viene del url que tenemos agregado\n",
        "        f = request.urlopen(url)\n",
        "    except URLError:\n",
        "        return( url + ' no valida')\n",
        "    else:\n",
        "        data = f.read().decode('1').split('\\n') \n",
        "        # lee datos y guardar cada línea \n",
        "        data = [var.split('\\t') for var in data] \n",
        "        # dividir línea \n",
        "        data = [list(map(str.strip, var)) for var in data]\n",
        "         # eliminar espacios en blanco\n",
        "        for var in data:\n",
        "            var[0] = var[0].split(',')[-1] \n",
        "            # obtener el código del país de la primera lista\n",
        "        data[0][0] = 'an'\n",
        "        data = {var[0]:var[1:] for var in data}\n",
        "        result = {data['an'][var]:data[co][var] for var in range(len(data['an']))}\n",
        "        return result\n",
        "\n",
        "co = input('escribe el código de un país: ')\n",
        "print('Producto Interior Bruto (PIB) per cápita ', co)\n",
        "print('año', '\\t', 'pib')\n",
        "for an, pib in funi('https://ec.europa.eu/eurostat/estat-navtree-portlet-prod/BulkDownloadListing?file=data/sdg_08_10.tsv.gz&unzip=true').items():\n",
        "    print(an, '\\t', pib)"
      ],
      "execution_count": null,
      "outputs": []
    }
  ]
}