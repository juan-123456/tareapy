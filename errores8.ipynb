{
  "nbformat": 4,
  "nbformat_minor": 0,
  "metadata": {
    "colab": {
      "name": "Untitled10.ipynb",
      "provenance": [],
      "authorship_tag": "ABX9TyMS6IhPKh5FnDwVz1qKyawe",
      "include_colab_link": true
    },
    "kernelspec": {
      "name": "python3",
      "display_name": "Python 3"
    },
    "language_info": {
      "name": "python"
    }
  },
  "cells": [
    {
      "cell_type": "markdown",
      "metadata": {
        "id": "view-in-github",
        "colab_type": "text"
      },
      "source": [
        "<a href=\"https://colab.research.google.com/github/juan-123456/tareapy/blob/cuartatanda/errores8.ipynb\" target=\"_parent\"><img src=\"https://colab.research.google.com/assets/colab-badge.svg\" alt=\"Open In Colab\"/></a>"
      ]
    },
    {
      "cell_type": "code",
      "metadata": {
        "id": "YQ_w2wqvBJ-k"
      },
      "source": [
        "#aqui en esta parte del codigo se debe agregar el formato del tipo de dato\n",
        "#por el tipo es float porque es el tipo de dato que se ingresa\n",
        "\n",
        "base = float(input('Introduce la base imponible de la factura: '))\n",
        "\n",
        "#tambien tenemos que tomar en cuenta el orden de nuestras funciones \n",
        "#tenemos que crear nuestra funcion de primero junto que nuestras variable \n",
        "#tipo de funcion que hara\n",
        "#para luego imprimir nuestra funcion osea el resultado\n",
        "\n",
        "\n",
        "def aplica_iva(base, iva = 16):\n",
        "    #tambien saber que la operacion para aplicar el iva\n",
        "    #es la += multiplicado por la base osea el numero * el iva que se hara / entre 100 \n",
        "\n",
        "    base += base * iva / 100  \n",
        "    return base \n",
        "\n",
        "print(aplica_iva(base))\n",
        "#tambien al imprimir los datos debemos tomar en cuenta que solo se imprime nuestra variable del dato\n",
        "#de nuestra funcion"
      ],
      "execution_count": null,
      "outputs": []
    }
  ]
}