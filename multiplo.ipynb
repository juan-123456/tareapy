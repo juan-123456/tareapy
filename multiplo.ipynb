{
  "nbformat": 4,
  "nbformat_minor": 0,
  "metadata": {
    "colab": {
      "name": "Untitled9.ipynb",
      "provenance": [],
      "authorship_tag": "ABX9TyNiHg5w05YnbPGZslo7Eh+a",
      "include_colab_link": true
    },
    "kernelspec": {
      "name": "python3",
      "display_name": "Python 3"
    },
    "language_info": {
      "name": "python"
    }
  },
  "cells": [
    {
      "cell_type": "markdown",
      "metadata": {
        "id": "view-in-github",
        "colab_type": "text"
      },
      "source": [
        "<a href=\"https://colab.research.google.com/github/juan-123456/tareapy/blob/terceratanda/multiplo.ipynb\" target=\"_parent\"><img src=\"https://colab.research.google.com/assets/colab-badge.svg\" alt=\"Open In Colab\"/></a>"
      ]
    },
    {
      "cell_type": "code",
      "metadata": {
        "id": "kBGIoqDl34ES"
      },
      "source": [
        "#creamos nuestra funcion creando 2 enteros y nos regresa su \n",
        "#comun divisor\n",
        "def funcion(entero1, entero2):\n",
        "\n",
        "   #solo creamos un ciclo while que condiciona que mientras se cumpla esa funcion\n",
        "   #las hara las condiciones, sino hara lo siguiente.\n",
        "\n",
        "    fun = 0\n",
        "    while(entero2 > 0):\n",
        "        fun = entero2\n",
        "        entero2 = entero1 % entero2\n",
        "        entero1 = fun\n",
        "    return entero1\n",
        "\n",
        "#aqui creamos las funciones que calcularan el minimo multiplo \n",
        "#de los 2 numeros\n",
        "\n",
        "def funcion(entero1, entero2):\n",
        "   #teniendo a entero1 y entero2 como nuestros 2 numeros enteros\n",
        "   #luego se acompaña de el ciclo if que es si se cumplehara lo siguiente\n",
        "   #else sino hara que el may sea el entero2\n",
        "   #mientras sea % al numero 1 se imprimira.\n",
        "    if entero1 > entero2:\n",
        "        may = entero1\n",
        "    else:\n",
        "        may = entero2\n",
        "    while (may % entero1 != 0) or (may % entero2 != 0):\n",
        "        may += 1\n",
        "    return may\n",
        "\n",
        "#aqui solo se imprime.\n",
        "\n",
        "print(funcion(20,21))\n",
        "\n",
        "print(funcion(20,21))"
      ],
      "execution_count": null,
      "outputs": []
    }
  ]
}