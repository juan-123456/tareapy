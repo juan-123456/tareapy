{
  "nbformat": 4,
  "nbformat_minor": 0,
  "metadata": {
    "colab": {
      "name": "Untitled8.ipynb",
      "provenance": [],
      "authorship_tag": "ABX9TyOsTIHJCcP7ljUNLYzQyThD",
      "include_colab_link": true
    },
    "kernelspec": {
      "name": "python3",
      "display_name": "Python 3"
    },
    "language_info": {
      "name": "python"
    }
  },
  "cells": [
    {
      "cell_type": "markdown",
      "metadata": {
        "id": "view-in-github",
        "colab_type": "text"
      },
      "source": [
        "<a href=\"https://colab.research.google.com/github/juan-123456/tareapy/blob/terceratanda/21%25.ipynb\" target=\"_parent\"><img src=\"https://colab.research.google.com/assets/colab-badge.svg\" alt=\"Open In Colab\"/></a>"
      ]
    },
    {
      "cell_type": "code",
      "metadata": {
        "id": "37u9aUPO2KgR"
      },
      "source": [
        "#aqui solo usamos def para declarar funciones\n",
        "#luego usamos nuestra funcionn seguido de las variables asignadas.\n",
        "#eneste caso se aplica iba a una factura.\n",
        "#tenemos ca como cantidad y por como porcentaje\n",
        "def invocar(can, por=21):\n",
        "    \n",
        "    #aqui solo regresa el valor\n",
        "    return can + can*por/100\n",
        "#por ultimo se imprime\n",
        "print(invocar(1000,10))\n",
        "\n",
        "print(invocar(1000))"
      ],
      "execution_count": null,
      "outputs": []
    }
  ]
}