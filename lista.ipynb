{
  "nbformat": 4,
  "nbformat_minor": 0,
  "metadata": {
    "colab": {
      "name": "Untitled9.ipynb",
      "provenance": [],
      "authorship_tag": "ABX9TyOhnyD8N2MqqMP7fLlq3KK2",
      "include_colab_link": true
    },
    "kernelspec": {
      "name": "python3",
      "display_name": "Python 3"
    },
    "language_info": {
      "name": "python"
    }
  },
  "cells": [
    {
      "cell_type": "markdown",
      "metadata": {
        "id": "view-in-github",
        "colab_type": "text"
      },
      "source": [
        "<a href=\"https://colab.research.google.com/github/juan-123456/tareapy/blob/terceratanda/lista.ipynb\" target=\"_parent\"><img src=\"https://colab.research.google.com/assets/colab-badge.svg\" alt=\"Open In Colab\"/></a>"
      ]
    },
    {
      "cell_type": "code",
      "metadata": {
        "id": "kBGIoqDl34ES"
      },
      "source": [
        "#creamos nuestras nuevas funciones que es def seguido de nuestra variable media\n",
        "#creamos una variable dentro llamada li \n",
        "def media(li):\n",
        "\n",
        "    #lo que nos hace la funcion es sum y len es dividir la suma por len de una lista\n",
        "    #de numeros para encontrar un promedio.\n",
        "   \n",
        "    return sum(li)/len(li)\n",
        "\n",
        "    #luego continuamos con imprimir las variables y terminamos de esta forma.\n",
        "\n",
        "print(media([1, 2, 3, 4, 5]))\n",
        "print(media([2.3, 5.7, 6.8, 9.7, 12.1, 15.6]))"
      ],
      "execution_count": null,
      "outputs": []
    }
  ]
}