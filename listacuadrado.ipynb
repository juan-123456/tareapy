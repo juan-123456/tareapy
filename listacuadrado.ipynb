{
  "nbformat": 4,
  "nbformat_minor": 0,
  "metadata": {
    "colab": {
      "name": "Untitled9.ipynb",
      "provenance": [],
      "authorship_tag": "ABX9TyM854zfeoe76FoJOJzc/iA9",
      "include_colab_link": true
    },
    "kernelspec": {
      "name": "python3",
      "display_name": "Python 3"
    },
    "language_info": {
      "name": "python"
    }
  },
  "cells": [
    {
      "cell_type": "markdown",
      "metadata": {
        "id": "view-in-github",
        "colab_type": "text"
      },
      "source": [
        "<a href=\"https://colab.research.google.com/github/juan-123456/tareapy/blob/terceratanda/listacuadrado.ipynb\" target=\"_parent\"><img src=\"https://colab.research.google.com/assets/colab-badge.svg\" alt=\"Open In Colab\"/></a>"
      ]
    },
    {
      "cell_type": "code",
      "metadata": {
        "id": "kBGIoqDl34ES"
      },
      "source": [
        "#comenzamos creando funciones de la siguiente forma\n",
        "#tenemos li como los numeros y regresa con las funciones lista el regreso de li\n",
        "\n",
        "def num(li):\n",
        "   \n",
        "   #creamos aqui un ciclo for para que cuando se cumpla la funcion\n",
        "   #haga lo que tengamos condicionado\n",
        "    lista = []\n",
        "    for variable in li:\n",
        "        lista.append(variable**2)\n",
        "    return lista\n",
        "    #luego imprime los numeros que estan dentro de las funciones creadas.\n",
        "\n",
        "print(num([1, 2, 3, 4, 5]))\n",
        "print(num([2.3, 5.7, 6.8, 9.7, 12.1, 15.6]))"
      ],
      "execution_count": null,
      "outputs": []
    }
  ]
}