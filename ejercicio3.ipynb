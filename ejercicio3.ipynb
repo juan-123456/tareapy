{
  "nbformat": 4,
  "nbformat_minor": 0,
  "metadata": {
    "colab": {
      "name": "Untitled11.ipynb",
      "provenance": [],
      "authorship_tag": "ABX9TyN8rGBBhJeFTUS5+KQnPyLP",
      "include_colab_link": true
    },
    "kernelspec": {
      "name": "python3",
      "display_name": "Python 3"
    },
    "language_info": {
      "name": "python"
    }
  },
  "cells": [
    {
      "cell_type": "markdown",
      "metadata": {
        "id": "view-in-github",
        "colab_type": "text"
      },
      "source": [
        "<a href=\"https://colab.research.google.com/github/juan-123456/tareapy/blob/quintatanda/ejercicio3.ipynb\" target=\"_parent\"><img src=\"https://colab.research.google.com/assets/colab-badge.svg\" alt=\"Open In Colab\"/></a>"
      ]
    },
    {
      "cell_type": "code",
      "metadata": {
        "id": "1_2C0J0IlOTv",
        "outputId": "51161f01-e0e4-43c7-d3ed-b97801afdf29",
        "colab": {
          "base_uri": "https://localhost:8080/"
        }
      },
      "source": [
        "import pandas as pd\n",
        "#tenemos nuestra libreria de pandas importada\n",
        "\n",
        "\n",
        "def fun_apro(var_nota):\n",
        "  #creamos la funcion para el programa\n",
        "\n",
        "    var_nota = pd.Series(var_nota)\n",
        "\n",
        "    #tenemos creado nuestra funcion que es la operacion de nuestra funcion\n",
        "    return var_nota[var_nota >= 5].sort_values(ascending=False)\n",
        "\n",
        "#luego tenemos para imprimir que llamamos nuestra variable para que puedan mostrarse los datos ingresados\n",
        "\n",
        "var_nota = {'Alan':7, 'Lupita':9.5, 'Mariam':9, 'Gabi': 8.5, 'Alfredo': 7.5}\n",
        "\n",
        "#por ultimo tenemos que imprimir la funcion \n",
        "print(fun_apro(var_nota))"
      ],
      "execution_count": 8,
      "outputs": [
        {
          "output_type": "stream",
          "text": [
            "Lupita     9.5\n",
            "Mariam     9.0\n",
            "Gabi       8.5\n",
            "Alfredo    7.5\n",
            "Alan       7.0\n",
            "dtype: float64\n"
          ],
          "name": "stdout"
        }
      ]
    }
  ]
}