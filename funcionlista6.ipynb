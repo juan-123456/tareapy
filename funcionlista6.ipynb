{
  "nbformat": 4,
  "nbformat_minor": 0,
  "metadata": {
    "colab": {
      "name": "Untitled10.ipynb",
      "provenance": [],
      "authorship_tag": "ABX9TyN61JQJPlEwyjzinM6nKCGp",
      "include_colab_link": true
    },
    "kernelspec": {
      "name": "python3",
      "display_name": "Python 3"
    },
    "language_info": {
      "name": "python"
    }
  },
  "cells": [
    {
      "cell_type": "markdown",
      "metadata": {
        "id": "view-in-github",
        "colab_type": "text"
      },
      "source": [
        "<a href=\"https://colab.research.google.com/github/juan-123456/tareapy/blob/cuartatanda/funcionlista6.ipynb\" target=\"_parent\"><img src=\"https://colab.research.google.com/assets/colab-badge.svg\" alt=\"Open In Colab\"/></a>"
      ]
    },
    {
      "cell_type": "code",
      "metadata": {
        "id": "BTGJWNxSAZBz"
      },
      "source": [
        "def grdo(marc):\n",
        "    #tenemos una funcion que devolvera calificaciones en una not\n",
        "    #luego tenemos marc como los valor de 0 a 10 en cualquiera de esos\n",
        "   \n",
        "    if marc< 5:\n",
        "        return 'abc'\n",
        "    elif marc < 7:\n",
        "        return 'are'\n",
        "    elif marc < 9:\n",
        "        return 'aei'\n",
        "    elif marc < 10:     \n",
        "        return 'oiu'\n",
        "    else:\n",
        "        return 'zxn'\n",
        "        #despues con el returno tenemos la nota de la variable marc\n",
        "\n",
        "def gra(marc):\n",
        "   \n",
        "    #por ultimo tenemos la funcion \n",
        "    return list(map(grdo, marc))\n",
        "\n",
        "print(gra([5, 8, 9.2, 8, 8.1, 9.2, 10]))"
      ],
      "execution_count": null,
      "outputs": []
    }
  ]
}