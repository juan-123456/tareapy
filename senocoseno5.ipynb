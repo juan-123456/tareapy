{
  "nbformat": 4,
  "nbformat_minor": 0,
  "metadata": {
    "colab": {
      "name": "Untitled10.ipynb",
      "provenance": [],
      "authorship_tag": "ABX9TyNzzHcx2dNri0WptAXpf+wv",
      "include_colab_link": true
    },
    "kernelspec": {
      "name": "python3",
      "display_name": "Python 3"
    },
    "language_info": {
      "name": "python"
    }
  },
  "cells": [
    {
      "cell_type": "markdown",
      "metadata": {
        "id": "view-in-github",
        "colab_type": "text"
      },
      "source": [
        "<a href=\"https://colab.research.google.com/github/juan-123456/tareapy/blob/cuartatanda/senocoseno5.ipynb\" target=\"_parent\"><img src=\"https://colab.research.google.com/assets/colab-badge.svg\" alt=\"Open In Colab\"/></a>"
      ]
    },
    {
      "cell_type": "code",
      "metadata": {
        "id": "lqdLkq9-AIhC"
      },
      "source": [
        "from math import cos, sin, exp, tan, log\n",
        "\n",
        "#tenemos la funcion que aplica enteros de 1 hasta cualquiera\n",
        "#luego tenemos a fun como funcion que recibe a los numeros reales para que nos devuelva otro\n",
        "#por ultimo tenemos a num como el numero que es positivo\n",
        "\n",
        "def funcion(fun, num):\n",
        "   \n",
        "    funciones = {'sin':sin, 'cos':cos, 'tan':tan, 'exp':exp, 'log':log}\n",
        "    re = {}\n",
        "\n",
        "\n",
        "    for inp in range(1, num+1):\n",
        "        re[inp] = funciones[fun](inp)\n",
        "        #luego nos devuelve inp como el valor entero\n",
        "    return re\n",
        "\n",
        "\n",
        "def cal():\n",
        "\n",
        "    #creamos otra funcion que va aplicar la seleccion de el usuario entre las opciones\n",
        "    #seo, coseno, tangente, exponencial y logaritmica\n",
        "    #y que nuestras variables serian fun y num\n",
        "   \n",
        "    fun = input('regla a aplicar (sin, cos, tan, exp, log): ')\n",
        "    num = int(input('numero positivo: '))\n",
        "\n",
        "\n",
        "\n",
        "    for inp, ju in funcion(fun, num).items():\n",
        "        print (inp, '\\t', ju)\n",
        "    return\n",
        "    \n",
        "\n",
        "cal()"
      ],
      "execution_count": null,
      "outputs": []
    }
  ]
}