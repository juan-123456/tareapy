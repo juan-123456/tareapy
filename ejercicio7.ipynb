{
  "nbformat": 4,
  "nbformat_minor": 0,
  "metadata": {
    "colab": {
      "name": "Untitled10.ipynb",
      "provenance": [],
      "authorship_tag": "ABX9TyMdvH3HrUd0f9d3HdpBFl1f",
      "include_colab_link": true
    },
    "kernelspec": {
      "name": "python3",
      "display_name": "Python 3"
    },
    "language_info": {
      "name": "python"
    }
  },
  "cells": [
    {
      "cell_type": "markdown",
      "metadata": {
        "id": "view-in-github",
        "colab_type": "text"
      },
      "source": [
        "<a href=\"https://colab.research.google.com/github/juan-123456/tareapy/blob/cuartatanda/ejercicio7.ipynb\" target=\"_parent\"><img src=\"https://colab.research.google.com/assets/colab-badge.svg\" alt=\"Open In Colab\"/></a>"
      ]
    },
    {
      "cell_type": "code",
      "metadata": {
        "id": "_LuFPajjB4D7"
      },
      "source": [
        "contraseña = input('Introduce la contraseña: ')\n",
        "if contraseña in ['sesamo']:\n",
        "    print('Pasa')\n",
        "\n",
        "    #el unico error que tenia este ejercicio son los 2 puntos ( : ) alado de nuestro else para que pueda\n",
        "    #cumplirse la funcion.\n",
        "    \n",
        "\n",
        "else:\n",
        "    print('No pasa')"
      ],
      "execution_count": null,
      "outputs": []
    },
    {
      "cell_type": "code",
      "metadata": {
        "id": "kADIq4zwB_x4"
      },
      "source": [
        ""
      ],
      "execution_count": null,
      "outputs": []
    }
  ]
}