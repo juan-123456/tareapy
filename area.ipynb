{
  "nbformat": 4,
  "nbformat_minor": 0,
  "metadata": {
    "colab": {
      "name": "Untitled10.ipynb",
      "provenance": [],
      "authorship_tag": "ABX9TyPIzRDcS/7A+KP7jmuk7zfk",
      "include_colab_link": true
    },
    "kernelspec": {
      "name": "python3",
      "display_name": "Python 3"
    },
    "language_info": {
      "name": "python"
    }
  },
  "cells": [
    {
      "cell_type": "markdown",
      "metadata": {
        "id": "view-in-github",
        "colab_type": "text"
      },
      "source": [
        "<a href=\"https://colab.research.google.com/github/juan-123456/tareapy/blob/terceratanda/area.ipynb\" target=\"_parent\"><img src=\"https://colab.research.google.com/assets/colab-badge.svg\" alt=\"Open In Colab\"/></a>"
      ]
    },
    {
      "cell_type": "code",
      "metadata": {
        "id": "tXz3vy095GET"
      },
      "source": [
        "#Aqui estamos creando una funcion donde ra es el radio del circulo\n",
        "#luego tenemos creado la funcion con una variable llamada area\n",
        "def area(ra):\n",
        "   \n",
        "    p = 3.1415\n",
        "    return p*ra**2\n",
        "\n",
        "#aqui tenemos otra funcion para que realice la funcion del volumen\n",
        "#del cilindro con distintas variables creadas\n",
        "\n",
        "def volumen(ra, hi):\n",
        "   \n",
        "    return area(ra)*hi\n",
        "\n",
        "print(volumen(4,6))"
      ],
      "execution_count": null,
      "outputs": []
    }
  ]
}