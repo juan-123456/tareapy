{
  "nbformat": 4,
  "nbformat_minor": 0,
  "metadata": {
    "colab": {
      "name": "Untitled11.ipynb",
      "provenance": [],
      "authorship_tag": "ABX9TyPs8zN7INc+gt7FFE38vdtN",
      "include_colab_link": true
    },
    "kernelspec": {
      "name": "python3",
      "display_name": "Python 3"
    },
    "language_info": {
      "name": "python"
    }
  },
  "cells": [
    {
      "cell_type": "markdown",
      "metadata": {
        "id": "view-in-github",
        "colab_type": "text"
      },
      "source": [
        "<a href=\"https://colab.research.google.com/github/juan-123456/tareapy/blob/quintatanda/ejercicio2.ipynb\" target=\"_parent\"><img src=\"https://colab.research.google.com/assets/colab-badge.svg\" alt=\"Open In Colab\"/></a>"
      ]
    },
    {
      "cell_type": "code",
      "metadata": {
        "id": "pJPRSRoYb5TM",
        "outputId": "55c784cf-a6af-44ba-e4a5-55146c94b37d",
        "colab": {
          "base_uri": "https://localhost:8080/"
        }
      },
      "source": [
        "#tenemos de primera nuestra libreria de pandas que la importamos con el siguiente comando\n",
        "import pandas as pd\n",
        "\n",
        "def fun_nota(var_nota):\n",
        "  #creamos un def con las siguiente funciones que tendra\n",
        "  #la linea de comando.\n",
        "    var_nota = pd.Series(var_nota)\n",
        "\n",
        "    #tenemos declarado nuestras variables que haran la funcionde calcular la min,max y media.\n",
        "    datos = pd.Series([var_nota.min(), var_nota.max(), var_nota.mean(), var_nota.std()], index=['MINIMA', 'MAXIMA', 'MEDIA', 'DESVIACION TIPICA'])\n",
        "    return datos\n",
        "\n",
        "var_nota = {'Alan':10, 'Angel':7.5, 'Miguel':8, 'Gabi': 6.5, 'Reyna': 6}\n",
        "#llamamos nuestras variables\n",
        "#para luego imprimirlas y mostrarlas\n",
        "print(fun_nota(var_nota))"
      ],
      "execution_count": 5,
      "outputs": [
        {
          "output_type": "stream",
          "text": [
            "MINIMA                6.000000\n",
            "MAXIMA               10.000000\n",
            "MEDIA                 7.600000\n",
            "DESVIACION TIPICA     1.557241\n",
            "dtype: float64\n"
          ],
          "name": "stdout"
        }
      ]
    }
  ]
}