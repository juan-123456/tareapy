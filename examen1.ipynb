{
  "nbformat": 4,
  "nbformat_minor": 0,
  "metadata": {
    "colab": {
      "name": "Untitled12.ipynb",
      "provenance": [],
      "authorship_tag": "ABX9TyOHgt2ix0DrGweVJOFqwXN0",
      "include_colab_link": true
    },
    "kernelspec": {
      "name": "python3",
      "display_name": "Python 3"
    },
    "language_info": {
      "name": "python"
    }
  },
  "cells": [
    {
      "cell_type": "markdown",
      "metadata": {
        "id": "view-in-github",
        "colab_type": "text"
      },
      "source": [
        "<a href=\"https://colab.research.google.com/github/juan-123456/tareapy/blob/examen/examen1.ipynb\" target=\"_parent\"><img src=\"https://colab.research.google.com/assets/colab-badge.svg\" alt=\"Open In Colab\"/></a>"
      ]
    },
    {
      "cell_type": "code",
      "metadata": {
        "colab": {
          "base_uri": "https://localhost:8080/"
        },
        "id": "Lc2ZSqMAKIWh",
        "outputId": "8cba6d54-a430-45d2-ba7f-8e270c369487"
      },
      "source": [
        "#lo primero que debemos hacer importar nuestras librerias que nos ayudaran a generar graficas \n",
        "#tambien aqui crearemos un data frame para los datos \n",
        "import pandas as pd\n",
        "import matplotlib.pyplot as plt\n",
        "\n",
        "# Lo que sigue a continuacion como nos pide el examen \n",
        "#es crear un diccionario que incluyan los nombres de los datos como se muestra en las columnas\n",
        "# junto con valores de cada columna que le corresponda\n",
        "cre_dato = {\n",
        "    \n",
        "    #aqui con el diccionario creado solo pasamos nuestros datos\n",
        "  'Nombre': ['Juan', 'Marta', 'Pedro', 'Jorge', 'Blas', 'Lisa', 'Antonio'],\n",
        "  'Edad': [23, 78, 22, 19, 45, 33, 20],\n",
        "  'Género': ['M', 'F', 'M', 'M', 'M', 'F', 'M'],\n",
        "  'Provincia': ['Burgos', 'Madrid', 'Toledo', 'Burgos', 'Madrid', 'Toledo', 'Madrid'],\n",
        "  'Hijos': [2, 0, 0, 3, 2, 1, 4],\n",
        "  'Mascotas': [5, 1, 0, 5, 2, 2, 3]\n",
        "}\n",
        "\n",
        "#por ultimo creamos nuestro print para imprimir\n",
        "impr = pd.DataFrame(cre_dato)\n",
        "print(impr)"
      ],
      "execution_count": 10,
      "outputs": [
        {
          "output_type": "stream",
          "text": [
            "    Nombre  Edad Género Provincia  Hijos  Mascotas\n",
            "0     Juan    23      M    Burgos      2         5\n",
            "1    Marta    78      F    Madrid      0         1\n",
            "2    Pedro    22      M    Toledo      0         0\n",
            "3    Jorge    19      M    Burgos      3         5\n",
            "4     Blas    45      M    Madrid      2         2\n",
            "5     Lisa    33      F    Toledo      1         2\n",
            "6  Antonio    20      M    Madrid      4         3\n"
          ],
          "name": "stdout"
        }
      ]
    },
    {
      "cell_type": "code",
      "metadata": {
        "colab": {
          "base_uri": "https://localhost:8080/"
        },
        "id": "dNf1e0ObKi59",
        "outputId": "c928c520-9543-427b-e815-c370d4013161"
      },
      "source": [
        "# en el punto 2 nos solicitan que de pueda mostrar\n",
        "#la informacion del data frame \n",
        "#lo quehacemos es imprimir con un inf para que nos muestra la informacion.\n",
        "print(impr.info())"
      ],
      "execution_count": 11,
      "outputs": [
        {
          "output_type": "stream",
          "text": [
            "<class 'pandas.core.frame.DataFrame'>\n",
            "RangeIndex: 7 entries, 0 to 6\n",
            "Data columns (total 6 columns):\n",
            " #   Column     Non-Null Count  Dtype \n",
            "---  ------     --------------  ----- \n",
            " 0   Nombre     7 non-null      object\n",
            " 1   Edad       7 non-null      int64 \n",
            " 2   Género     7 non-null      object\n",
            " 3   Provincia  7 non-null      object\n",
            " 4   Hijos      7 non-null      int64 \n",
            " 5   Mascotas   7 non-null      int64 \n",
            "dtypes: int64(3), object(3)\n",
            "memory usage: 464.0+ bytes\n",
            "None\n"
          ],
          "name": "stdout"
        }
      ]
    },
    {
      "cell_type": "code",
      "metadata": {
        "colab": {
          "base_uri": "https://localhost:8080/"
        },
        "id": "I0QZ1xHjKjFJ",
        "outputId": "513e8dc7-3dc5-4dab-a54a-007ccac66d09"
      },
      "source": [
        "#en el punto 3 nos solicitan que que tengamos que obtener las estadisticas numericas\n",
        "#lo que debemos hacer es simplemente imprimir pero con un decribe\n",
        "#esto lo que hara es describirnos que tiene cada columa y que tipos de tados tienen\n",
        "print(impr.describe())"
      ],
      "execution_count": 3,
      "outputs": [
        {
          "output_type": "stream",
          "text": [
            "            Edad     Hijos  Mascotas\n",
            "count   7.000000  7.000000  7.000000\n",
            "mean   34.285714  1.714286  2.571429\n",
            "std    21.383126  1.496026  1.902379\n",
            "min    19.000000  0.000000  0.000000\n",
            "25%    21.000000  0.500000  1.500000\n",
            "50%    23.000000  2.000000  2.000000\n",
            "75%    39.000000  2.500000  4.000000\n",
            "max    78.000000  4.000000  5.000000\n"
          ],
          "name": "stdout"
        }
      ]
    },
    {
      "cell_type": "code",
      "metadata": {
        "colab": {
          "base_uri": "https://localhost:8080/"
        },
        "id": "31IJ6LemKjMo",
        "outputId": "b2e5bcf2-8890-4bfc-fb0e-3c96bcf7d834"
      },
      "source": [
        "#el punto 4 nos pide que obtengamos los porcentajes de los hombres y mujeres \n",
        "#que en este caso se representan com M y con F\n",
        "#lo que hacemos es llamar a la provincia despues tenemos que agregar 100 porque es el porcentaje \n",
        "#para que pueda msotrar de unaforma entera los datos\n",
        "\n",
        "print(impr.groupby('Provincia').Género.value_counts(normalize = True) * 100)"
      ],
      "execution_count": 14,
      "outputs": [
        {
          "output_type": "stream",
          "text": [
            "Provincia  Género\n",
            "Burgos     M         100.000000\n",
            "Madrid     M          66.666667\n",
            "           F          33.333333\n",
            "Toledo     F          50.000000\n",
            "           M          50.000000\n",
            "Name: Género, dtype: float64\n"
          ],
          "name": "stdout"
        }
      ]
    },
    {
      "cell_type": "code",
      "metadata": {
        "colab": {
          "base_uri": "https://localhost:8080/",
          "height": 279
        },
        "id": "j1rE_lQIKjSr",
        "outputId": "ab80e051-79d1-4802-9c72-0b7464709b4e"
      },
      "source": [
        "\n",
        "#en el punto 5 se nos solicita que debemos representar un diagrama junto con el numero de hijo y de mascotas de madrid\n",
        "#lo que debemos hacer es crear un figura para que se pueda graficar\n",
        "fig, ax = plt.subplots()\n",
        "\n",
        "#despues continuamos con los filtros de el data grame para que solo nos pueda mostrar por el modo del filtros\n",
        "#el  diagrama con las filas deseadas de la columna madrid.\n",
        "impr[impr.Provincia == 'Madrid'].plot(kind = 'scatter', x = 'Hijos', y = 'Mascotas', ax = ax)\n",
        "# por ultimo utilizamos un show para que nos pueda mostrar las graficas\n",
        "plt.show()"
      ],
      "execution_count": 20,
      "outputs": [
        {
          "output_type": "display_data",
          "data": {
            "image/png": "[encoded data removed]",
            "text/plain": [
              "<Figure size 432x288 with 1 Axes>"
            ]
          },
          "metadata": {
            "tags": [],
            "needs_background": "light"
          }
        }
      ]
    },
    {
      "cell_type": "code",
      "metadata": {
        "colab": {
          "base_uri": "https://localhost:8080/",
          "height": 320
        },
        "id": "pwEQM3YEKsgE",
        "outputId": "f37a7835-97e7-47f7-ef6e-d9e3c0d88d8e"
      },
      "source": [
        "# por ultimo se nos solicita que grafiquemos una graficas\n",
        "#lo siguiente por hacer es\n",
        "# crear los ejes de nuestra graficas para asignarlas en las columnas\n",
        "fig, ax = plt.subplots()\n",
        "#despues lo que hacemos es tener que ordenar el data frame crendo la filas \n",
        "# despues se agrupoan por provincia y contamos el número de elementos de cada grupo.\n",
        "df.groupby('Provincia').size().plot(kind = 'bar')\n",
        "# luego se añade un texto en este caso para que se identifique la grafica\n",
        "plt.title('Distribución de frecuencias por provincia')\n",
        "# Mostramos el gráfico.\n",
        "plt.show()"
      ],
      "execution_count": 6,
      "outputs": [
        {
          "output_type": "display_data",
          "data": {
            "image/png": "[encoded data removed]",
            "text/plain": [
              "<Figure size 432x288 with 1 Axes>"
            ]
          },
          "metadata": {
            "tags": [],
            "needs_background": "light"
          }
        }
      ]
    },
    {
      "cell_type": "code",
      "metadata": {
        "id": "voWzxNlmKsjW"
      },
      "source": [
        ""
      ],
      "execution_count": null,
      "outputs": []
    },
    {
      "cell_type": "code",
      "metadata": {
        "id": "4GgMfpW5Ksmv"
      },
      "source": [
        ""
      ],
      "execution_count": null,
      "outputs": []
    },
    {
      "cell_type": "code",
      "metadata": {
        "id": "yPrzI2D4KspP"
      },
      "source": [
        ""
      ],
      "execution_count": null,
      "outputs": []
    },
    {
      "cell_type": "code",
      "metadata": {
        "id": "bOkdLMRGKssT"
      },
      "source": [
        ""
      ],
      "execution_count": null,
      "outputs": []
    }
  ]
}