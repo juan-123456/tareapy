{
  "nbformat": 4,
  "nbformat_minor": 0,
  "metadata": {
    "colab": {
      "name": "Untitled7.ipynb",
      "provenance": [],
      "authorship_tag": "ABX9TyPEX2d5cnB0sjIQHmgcLCui",
      "include_colab_link": true
    },
    "kernelspec": {
      "name": "python3",
      "display_name": "Python 3"
    },
    "language_info": {
      "name": "python"
    }
  },
  "cells": [
    {
      "cell_type": "markdown",
      "metadata": {
        "id": "view-in-github",
        "colab_type": "text"
      },
      "source": [
        "<a href=\"https://colab.research.google.com/github/juan-123456/tareapy/blob/main/Untitled7.ipynb\" target=\"_parent\"><img src=\"https://colab.research.google.com/assets/colab-badge.svg\" alt=\"Open In Colab\"/></a>"
      ]
    },
    {
      "cell_type": "code",
      "metadata": {
        "id": "3UUeaUW0s9p0"
      },
      "source": [
        "#declaracion de funciones\n",
        "\n",
        "#funcion de parametros\n",
        "\n",
        "def funcion1 ():\n",
        "    #contenido de la funcion\n",
        "    print(' has llamado la funcion ')\n",
        "\n",
        "#funcion con parametros y retorno\n",
        "def funcion2 (a,b):\n",
        "    #contenido de la funcion\n",
        "    c=int(a) + int(b)\n",
        "    return c"
      ],
      "execution_count": null,
      "outputs": []
    },
    {
      "cell_type": "code",
      "metadata": {
        "id": "fiNbHNPttipa"
      },
      "source": [
        "#llamamos las funciones declaradas en otro archivo\n",
        "import funcionesexternas as f\n",
        "\n",
        "#invocamos las funciones \n",
        "f.funcion1()\n",
        "\n",
        "#invocamos la otra funcion\n",
        "q=input('introduzca un dato ')\n",
        "w=input('introduzca otro dato ')\n",
        "\n",
        "print(f.funcion2(q,w))\n",
        "\n"
      ],
      "execution_count": null,
      "outputs": []
    }
  ]
}