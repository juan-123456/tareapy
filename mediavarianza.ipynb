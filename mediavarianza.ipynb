{
  "nbformat": 4,
  "nbformat_minor": 0,
  "metadata": {
    "colab": {
      "name": "Untitled9.ipynb",
      "provenance": [],
      "authorship_tag": "ABX9TyON+Or0/KZ20f/yAyU7ywyt",
      "include_colab_link": true
    },
    "kernelspec": {
      "name": "python3",
      "display_name": "Python 3"
    },
    "language_info": {
      "name": "python"
    }
  },
  "cells": [
    {
      "cell_type": "markdown",
      "metadata": {
        "id": "view-in-github",
        "colab_type": "text"
      },
      "source": [
        "<a href=\"https://colab.research.google.com/github/juan-123456/tareapy/blob/terceratanda/mediavarianza.ipynb\" target=\"_parent\"><img src=\"https://colab.research.google.com/assets/colab-badge.svg\" alt=\"Open In Colab\"/></a>"
      ]
    },
    {
      "cell_type": "code",
      "metadata": {
        "id": "kBGIoqDl34ES"
      },
      "source": [
        "#creamos nuestra funcion como los demas que tenemos\n",
        "#tenemos a li como los numeros de la lista\n",
        "#en esta funciones se hara el calculo de los numeros.\n",
        "\n",
        "def num(li):\n",
        "    \n",
        "    lista = []\n",
        "    for variable in li:\n",
        "        lista.append(variable**2)\n",
        "    return lista\n",
        "\n",
        "    #esta funcion muestra media, varianza y la desviacion.\n",
        "    #tenemos a li como nuestra variable de numeros\n",
        "\n",
        "def estadi(li):\n",
        "    \n",
        "    #aqui solo creamos una variable independiente para que pueda hacer las funciones\n",
        "    #que se les asigna junto con el sum y len que explique anteriormente para calcular.\n",
        "    estadi = {}\n",
        "    estadi['la media'] = sum(li)/len(li)\n",
        "\n",
        "    estadi['la varianza'] = sum(num(li))/len(li)-estadi['media']**2\n",
        "\n",
        "    estadi['la desviacion '] = estadi['varianza']**0.5\n",
        "    return estadi\n",
        "\n",
        "\n",
        "    #aqui imprimemos todos los resultados de variables\n",
        "\n",
        "print(estadi([1, 2, 3, 4, 5,6,7]))\n",
        "print(estadi([2.3, 5.7, 6.8, 9.7, 12.1, 15.6]))"
      ],
      "execution_count": null,
      "outputs": []
    }
  ]
}