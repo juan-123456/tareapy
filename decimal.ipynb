{
  "nbformat": 4,
  "nbformat_minor": 0,
  "metadata": {
    "colab": {
      "name": "Untitled8.ipynb",
      "provenance": [],
      "authorship_tag": "ABX9TyPuRIubxjjMOUAFDrSjy0FT",
      "include_colab_link": true
    },
    "kernelspec": {
      "name": "python3",
      "display_name": "Python 3"
    },
    "language_info": {
      "name": "python"
    }
  },
  "cells": [
    {
      "cell_type": "markdown",
      "metadata": {
        "id": "view-in-github",
        "colab_type": "text"
      },
      "source": [
        "<a href=\"https://colab.research.google.com/github/juan-123456/tareapy/blob/terceratanda/decimal.ipynb\" target=\"_parent\"><img src=\"https://colab.research.google.com/assets/colab-badge.svg\" alt=\"Open In Colab\"/></a>"
      ]
    },
    {
      "cell_type": "code",
      "metadata": {
        "id": "37u9aUPO2KgR"
      },
      "source": [
        "#aqui creamos nuestra funcion que converita el binario en decimal\n",
        "#nu es el binario de 0 y 1\n",
        "\n",
        "\n",
        "def decimal(nu):\n",
        "   \n",
        "    #aqui asignamos el nm con el numero binario, que quivale al 0\n",
        "    nm = list(nu)\n",
        "    nm.reverse()\n",
        "    decimal = 0\n",
        "    for variable in range(len(nm)):\n",
        "        decimal += int(nm[variable]) * 2 ** variable\n",
        "    return decimal\n",
        "\n",
        "#aqui creamos la funcion convertira el decimal en binario\n",
        "#tenemos asignado nu como un entero\n",
        "\n",
        "def bin(nu):\n",
        "   \n",
        "    bin = []\n",
        "    while nu > 0:\n",
        "        bin.append(str(nu % 2))\n",
        "        nu //= 2\n",
        "    bin.reverse()\n",
        "    return ''.join(bin)\n",
        "    \n",
        "    #imprime nuetras funciones.\n",
        "\n",
        "print(decimal('110101101'))\n",
        "print(bin(22))\n",
        "print(decimal(bin(22)))\n",
        "print(bin(decimal('101110101')))"
      ],
      "execution_count": null,
      "outputs": []
    }
  ]
}