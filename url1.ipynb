{
  "nbformat": 4,
  "nbformat_minor": 0,
  "metadata": {
    "colab": {
      "name": "Untitled10.ipynb",
      "provenance": [],
      "authorship_tag": "ABX9TyPr5nSqnLZLKykjUKq8cfu+",
      "include_colab_link": true
    },
    "kernelspec": {
      "name": "python3",
      "display_name": "Python 3"
    },
    "language_info": {
      "name": "python"
    }
  },
  "cells": [
    {
      "cell_type": "markdown",
      "metadata": {
        "id": "view-in-github",
        "colab_type": "text"
      },
      "source": [
        "<a href=\"https://colab.research.google.com/github/juan-123456/tareapy/blob/cuartatanda/url1.ipynb\" target=\"_parent\"><img src=\"https://colab.research.google.com/assets/colab-badge.svg\" alt=\"Open In Colab\"/></a>"
      ]
    },
    {
      "cell_type": "code",
      "metadata": {
        "id": "Nn89i2eb-Qs3"
      },
      "source": [
        "#aqui solo nosotros creamos nuestra funcion para que se pueda recibir url\n",
        "#tenemos como url como texto para que muestre algo.\n",
        "\n",
        "def letra(url):\n",
        "\n",
        "\n",
        "    #despues haremos que devuelva la variable url que contiene un texto\n",
        "    # osea un valor que nos debe regresar \n",
        "    from urllib import request\n",
        "    from urllib.error import URLError\n",
        "    try:\n",
        "        archivo1 = request.urlopen(url)\n",
        "    except URLError:\n",
        "        return(  url + ' no valido')\n",
        "    else:\n",
        "        contenido1 = archivo1.read()\n",
        "        return len(contenido1.split())\n",
        "    #despues nos imprime lo que tengamos en la url\n",
        "\n",
        "print(letra('https://www.definicionabc.com/general/fichero.php'))"
      ],
      "execution_count": null,
      "outputs": []
    }
  ]
}