{
  "nbformat": 4,
  "nbformat_minor": 0,
  "metadata": {
    "colab": {
      "name": "Untitled11.ipynb",
      "provenance": [],
      "authorship_tag": "ABX9TyNczbTCK3Yaed7U/eFgzMy7",
      "include_colab_link": true
    },
    "kernelspec": {
      "name": "python3",
      "display_name": "Python 3"
    },
    "language_info": {
      "name": "python"
    }
  },
  "cells": [
    {
      "cell_type": "markdown",
      "metadata": {
        "id": "view-in-github",
        "colab_type": "text"
      },
      "source": [
        "<a href=\"https://colab.research.google.com/github/juan-123456/tareapy/blob/quintatanda/ejercicio5.ipynb\" target=\"_parent\"><img src=\"https://colab.research.google.com/assets/colab-badge.svg\" alt=\"Open In Colab\"/></a>"
      ]
    },
    {
      "cell_type": "code",
      "metadata": {
        "id": "aZmO38BRvazw",
        "outputId": "85737730-7583-4350-bb29-6d18476cbda9",
        "colab": {
          "base_uri": "https://localhost:8080/"
        }
      },
      "source": [
        "#tenemos nuestra libreria invocada\n",
        "import pandas as pd\n",
        "\n",
        "#generamos una funcion donde se declararan nuestros datos\n",
        "funcion = {'Mes':['Enero', 'Febrero', 'Marzo', 'Abril'], 'Ventas':[30500, 35600, 28300, 33900], 'Gastos':[22000, 23400, 18100, 20700]}\n",
        "\n",
        "tab = pd.DataFrame(funcion)\n",
        "#despues tenemos nuestra operacion de nuestra funcion\n",
        "\n",
        "def ba(tab, meses):\n",
        "#una operacion donde se resta las ventas junto con los gastos para tener el resultado de los meses juntos\n",
        "    tab['El balance'] = tab.Ventas - tab.Gastos\n",
        "    return contabilidad[contabilidad.Mes.isin(meses)].Balance.sum()\n",
        "\n",
        "#y por ultimo se imprimen las funciones para mostrar el resultado\n",
        "print(ba(tab, ['Enero','Abril']))"
      ],
      "execution_count": 25,
      "outputs": [
        {
          "output_type": "stream",
          "text": [
            "21700\n"
          ],
          "name": "stdout"
        }
      ]
    }
  ]
}