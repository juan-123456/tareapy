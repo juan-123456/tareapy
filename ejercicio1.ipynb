{
  "nbformat": 4,
  "nbformat_minor": 0,
  "metadata": {
    "colab": {
      "name": "Untitled11.ipynb",
      "provenance": [],
      "authorship_tag": "ABX9TyPPlKaU0Dn7SX53DFEk2fCh",
      "include_colab_link": true
    },
    "kernelspec": {
      "name": "python3",
      "display_name": "Python 3"
    },
    "language_info": {
      "name": "python"
    }
  },
  "cells": [
    {
      "cell_type": "markdown",
      "metadata": {
        "id": "view-in-github",
        "colab_type": "text"
      },
      "source": [
        "<a href=\"https://colab.research.google.com/github/juan-123456/tareapy/blob/quintatanda/ejercicio1.ipynb\" target=\"_parent\"><img src=\"https://colab.research.google.com/assets/colab-badge.svg\" alt=\"Open In Colab\"/></a>"
      ]
    },
    {
      "cell_type": "code",
      "metadata": {
        "colab": {
          "base_uri": "https://localhost:8080/"
        },
        "id": "NrWKWEuP7IaS",
        "outputId": "0e74ee6a-ad6a-4155-80c3-baf4058692c1"
      },
      "source": [
        "import pandas as pd\n",
        "\n",
        "start = int(input('el año inicial es '))\n",
        "#tenemos nuestra libreria acompañada de las variables de nuestra funcion\n",
        "#el start es el inicio \n",
        "#el finnish es una variable mas\n",
        "finnish = int(input('el año final es '))\n",
        "vent = {}\n",
        "for i in range(start, finnish+1):\n",
        "    vent[i] = float(input('ventas del año  ' + str(i) +': ' ))\n",
        "    #donde se declara mediante un ciclo for\n",
        "vent = pd.Series(vent)\n",
        "print('vendidos\\n', vent)\n",
        "print('vendidos con descuento aplicado\\n', vent*0.9)\n"
      ],
      "execution_count": null,
      "outputs": [
        {
          "output_type": "stream",
          "text": [
            "el año inicial es 2014\n",
            "el año final es 2015\n",
            "ventas del año  2014: 101\n",
            "ventas del año  2015: 201\n",
            "vendidos\n",
            " 2014    101.0\n",
            "2015    201.0\n",
            "dtype: float64\n",
            "vendidos con descuento aplicado\n",
            " 2014     90.9\n",
            "2015    180.9\n",
            "dtype: float64\n"
          ],
          "name": "stdout"
        }
      ]
    }
  ]
}