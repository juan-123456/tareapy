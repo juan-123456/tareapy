{
  "nbformat": 4,
  "nbformat_minor": 0,
  "metadata": {
    "colab": {
      "name": "Untitled10.ipynb",
      "provenance": [],
      "authorship_tag": "ABX9TyMUZ+m5khXzlzVJcEmdDw3o",
      "include_colab_link": true
    },
    "kernelspec": {
      "name": "python3",
      "display_name": "Python 3"
    },
    "language_info": {
      "name": "python"
    }
  },
  "cells": [
    {
      "cell_type": "markdown",
      "metadata": {
        "id": "view-in-github",
        "colab_type": "text"
      },
      "source": [
        "<a href=\"https://colab.research.google.com/github/juan-123456/tareapy/blob/cuartatanda/erroresss9.ipynb\" target=\"_parent\"><img src=\"https://colab.research.google.com/assets/colab-badge.svg\" alt=\"Open In Colab\"/></a>"
      ]
    },
    {
      "cell_type": "code",
      "metadata": {
        "id": "kqmF309kBr9b"
      },
      "source": [
        "a = ((1, 2, 3),\n",
        "     (3, 2, 1))\n",
        "b = ((1, 2),\n",
        "     (3, 4),\n",
        "     (5, 6))\n",
        "\n",
        "def producto(a, b):\n",
        "    producto = []\n",
        "    # el cambio de a debe ser de b porque debe leer primero los numeros de la primera\n",
        "    #variable \n",
        "    for i in range(len(a)):\n",
        "        fila = [] \n",
        "        #debemos hacer el cambio de a para que sea b porque sino se aplicaria la misma funcion de la misma\n",
        "        #variable 2 veces\n",
        "\n",
        "        for j in range(len(b[0])):\n",
        "            suma = 0\n",
        "            #tenemos de mas el + 1 alado de nuestra operacion, no debe llevar eso porque sino\n",
        "            #ira incrementando 1 + 1 etc cuando no debe hacerlo\n",
        "            for k in range(len(a[0])):\n",
        "                suma += a[i][k] * b[k][j]\n",
        "\n",
        "                #se agrego el .append porque estamos llamando una funcion o libreria que nos ayudara a \n",
        "                #formar la fila de nuestra suma\n",
        "\n",
        "            fila.append(suma)\n",
        "            #se agrego .append aqui lo mismo que la anterior \n",
        "        producto.append(tuple(fila))\n",
        "    return tuple(producto)\n",
        "\n",
        "print(producto(a, b))"
      ],
      "execution_count": null,
      "outputs": []
    }
  ]
}